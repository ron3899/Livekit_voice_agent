{
 "cells": [
  {
   "cell_type": "markdown",
   "id": "2d7d20f5-bf7a-4729-8601-34aaef3ffa0c",
   "metadata": {},
   "source": [
    "# Xarray-spatial\n",
    "### User Guide: Zonal crosstab\n",
    "-----\n",
    "\n",
    "Xarray-spatial's zonal crosstab function provides an easy way to calculate cross-tabulated (categorical stats) areas between two datasets that can help in identifying patterns and trends in the data. In this notebook, we'll analyze temperature by elevation. We use temperature data from [MODIS](https://planetarycomputer.microsoft.com/dataset/modis-21A2-061) dataset. The elevation data is from [NASADEM](https://planetarycomputer.microsoft.com/dataset/nasadem) dataset. Both the 2 are coutinuous data. To categorize them, we'll group elevation into different classes so that elevation of similar height will be in the same class. Similarly, temperature will also be classified into different classes. We'll use zonal crosstab in 2 different scenarios:\n",
    "\n",
    "\n",
    "[2D Zonal Crosstab](#2D-Zonal-Crosstab) to see how temperature is changed by elevation.  \n",
    "[3D Zonal Crosstab](#3D-Zonal-Crosstab) to see how temperature is changed by elevation over time.\n",
    "\n",
    "-----------\n"
   ]
  },
  {
   "cell_type": "markdown",
   "id": "a0aa2a34-404c-4209-a45a-1d346af2c360",
   "metadata": {},
   "source": [
    "## Load data\n",
    "\n",
    "The region of interest is a small area around the [Death Valley National Park\n",
    "](https://www.google.com/maps/place/Death+Valley+National+Park/@36.5052209,-119.093306,538106m/data=!3m1!1e3!4m5!3m4!1s0x80c74b7776ae8a47:0xccc9f07c7bf2b054!8m2!3d36.5053891!4d-117.0794078!5m1!1e4), Skidoo, California, USA with an extent of `[-118, 36, -117, 37]` (EPSG:4326).\n",
    "\n",
    "All data in this notebook has been loaded from stac items and has been coregistered so that they are well aligned. "
   ]
  },
  {
   "cell_type": "code",
   "execution_count": null,
   "id": "53a5366b-6a61-449d-a59d-20ce92e47b6f",
   "metadata": {},
   "outputs": [],
   "source": [
    "import numpy as np\n",
    "import xarray as xr\n",
    "\n",
    "import matplotlib.pyplot as plt\n",
    "\n",
    "from datashader.transfer_functions import shade, stack, Images\n",
    "\n",
    "from xrspatial import hillshade\n",
    "from xrspatial.classify import quantile\n",
    "from xrspatial import zonal_crosstab"
   ]
  },
  {
   "cell_type": "markdown",
   "id": "30080cfa-082c-443a-9e37-91889377f022",
   "metadata": {},
   "source": [
    "#### Load elevation data"
   ]
  },
  {
   "cell_type": "code",
   "execution_count": null,
   "id": "1193c035-268f-4772-aa65-5516d4f43434",
   "metadata": {},
   "outputs": [],
   "source": [
    "elevation = xr.open_rasterio('elevation.tif').sel(band=1)\n",
    "elevation"
   ]
  },
  {
   "cell_type": "markdown",
   "id": "95e4fd29-4230-4001-af3b-8151d68603b7",
   "metadata": {},
   "source": [
    "Visualize the elevation raster."
   ]
  },
  {
   "cell_type": "code",
   "execution_count": null,
   "id": "8caead48-0125-48b6-8986-ef8d3df33787",
   "metadata": {},
   "outputs": [],
   "source": [
    "# Render the hillshade with a coloramp of the values applied on top\n",
    "elevation_shaded = hillshade(elevation, azimuth=100, angle_altitude=50)\n",
    "stack(\n",
    "    shade(elevation_shaded, cmap=[\"white\", \"gray\"]),\n",
    "    shade(elevation, cmap=plt.get_cmap(\"terrain\"), alpha=128)\n",
    ")"
   ]
  },
  {
   "cell_type": "markdown",
   "id": "7bf9c6b4-5f5e-4771-976c-742ed854072f",
   "metadata": {},
   "source": [
    "#### Load temperature data\n",
    "\n",
    "Temperature data in this example is collected for day time of 4 months of 2021 as specified in the dictionary below. "
   ]
  },
  {
   "cell_type": "code",
   "execution_count": null,
   "id": "e736285a-cb8d-4b4e-98e7-8203785e887c",
   "metadata": {},
   "outputs": [],
   "source": [
    "datetimes = {\n",
    "    'March': '2021-03-31T00:00:00.000000000',\n",
    "    'June': '2021-06-30T00:00:00.000000000',\n",
    "    'September': '2021-09-30T00:00:00.000000000',\n",
    "    'December': '2021-12-31T00:00:00.000000000'\n",
    "}"
   ]
  },
  {
   "cell_type": "markdown",
   "id": "66aa1395-9aab-488b-bd19-f71234d99e5f",
   "metadata": {},
   "source": [
    "MODIS Day Land Surface Temperature data is saved in Kelvin scale. Let's convert them to Fahrenheit that we're more familiar with."
   ]
  },
  {
   "cell_type": "code",
   "execution_count": null,
   "id": "d775afcc-af33-4818-960f-f57a8919c410",
   "metadata": {},
   "outputs": [],
   "source": [
    "def kelvin_to_fahrenheit(k):\n",
    "    return (k - 273.15) * 9/5 + 32 "
   ]
  },
  {
   "cell_type": "markdown",
   "id": "9759a933-4f58-4d6e-905b-a24bc86178a0",
   "metadata": {},
   "source": [
    "Load day time temperature data."
   ]
  },
  {
   "cell_type": "code",
   "execution_count": null,
   "id": "b9f09bf5-99a5-42c9-891e-ac2772801c61",
   "metadata": {},
   "outputs": [],
   "source": [
    "day_temp_data = xr.open_rasterio('day_temp_data.tif')\n",
    "\n",
    "# replace 0s with NaNs\n",
    "day_temp_data = day_temp_data.where(day_temp_data > 0, np.nan)\n",
    "\n",
    "# convert to Fahrenheit scale\n",
    "day_temp_data.data = kelvin_to_fahrenheit(day_temp_data.data)\n",
    "\n",
    "day_temp_data"
   ]
  },
  {
   "cell_type": "code",
   "execution_count": null,
   "id": "2093d7c1-f121-416b-8029-dcf8a8d5896e",
   "metadata": {},
   "outputs": [],
   "source": [
    "day_temp_plots = day_temp_data.plot.imshow(cmap=\"magma\", vmin=-10, vmax=125, col=\"band\", size=4)\n",
    "for ax, datetime in zip(day_temp_plots.axes.flat, datetimes.keys()):\n",
    "    ax.set_title(datetime)"
   ]
  },
  {
   "cell_type": "markdown",
   "id": "b142518d-c617-4620-ae98-02725877fa57",
   "metadata": {},
   "source": [
    "## 2D Zonal Crosstab\n",
    "\n",
    "2D zonal crosstab works on two different 2D datasets, one for `zones`, and the other for `values`.\n",
    "\n",
    "To define `zones` data, we'll use `xrspatial.classify.quantile` function to group elevation data into different classes. Each class will be a separate zone."
   ]
  },
  {
   "cell_type": "code",
   "execution_count": null,
   "id": "fcb1425a-2bdb-4dab-a78d-17bd4a606d1d",
   "metadata": {},
   "outputs": [],
   "source": [
    "n_elevation_classes = 10\n",
    "zones = quantile(elevation, k=n_elevation_classes, name='Elevation Zones')\n",
    "\n",
    "shaded_zones = shade(zones, cmap=plt.get_cmap(\"terrain\"), how=\"linear\")"
   ]
  },
  {
   "cell_type": "markdown",
   "id": "3da42133-edb2-4e63-9112-2db9b98cd478",
   "metadata": {},
   "source": [
    "In order to define the 2D `values` data, let's use day time temperature of March 2021 and categorize them into different classes. Each class contains temperature with similar values. We'll use `xrspatial.classify.quantile` once more to do this."
   ]
  },
  {
   "cell_type": "code",
   "execution_count": null,
   "id": "44d32583-8826-453f-a1d5-a4780f1b67c2",
   "metadata": {},
   "outputs": [],
   "source": [
    "day_temp_march = day_temp_data[0]\n",
    "\n",
    "n_temp_classes = 10\n",
    "classified_day_temp_march = quantile(day_temp_march, k=n_temp_classes, name='Temperature Classes (March)')\n",
    "shaded_temp_classes_march = shade(classified_day_temp_march, cmap=plt.get_cmap(\"coolwarm\"), how=\"linear\")"
   ]
  },
  {
   "cell_type": "markdown",
   "id": "e1c15392-0815-4b38-94c8-074dee3dc11d",
   "metadata": {},
   "source": [
    "Visualize the `zones` and `values` we've defined above."
   ]
  },
  {
   "cell_type": "code",
   "execution_count": null,
   "id": "b330dca7-3dae-4c85-a820-0fe77f66bf78",
   "metadata": {},
   "outputs": [],
   "source": [
    "imgs = Images(shaded_zones, shaded_temp_classes_march)\n",
    "imgs.num_cols = 2\n",
    "imgs"
   ]
  },
  {
   "cell_type": "markdown",
   "id": "03f10c98-1a14-42cd-9541-5b84ed2d8028",
   "metadata": {},
   "source": [
    "Let's write a small util function to get range of each class/category in a categorical data array. From that, we can know exactly what range a elevation `zone` covers, and what range a temperature class is."
   ]
  },
  {
   "cell_type": "code",
   "execution_count": null,
   "id": "daad96c5-4164-4490-9716-3418f09e4a9f",
   "metadata": {},
   "outputs": [],
   "source": [
    "# util function to calculate range of each class/bin\n",
    "\n",
    "def bin_ranges(classified_data, original_data, unit):\n",
    "    bins = np.unique(classified_data.data[~np.isnan(classified_data.data)])\n",
    "    ranges = []\n",
    "    for b in bins:\n",
    "        bin_data = original_data.data[classified_data.data==b]\n",
    "        ranges.append(f'{np.nanmin(bin_data):.1f}{unit} - {np.nanmax(bin_data):.1f}{unit}')\n",
    "    return ranges"
   ]
  },
  {
   "cell_type": "code",
   "execution_count": null,
   "id": "60fe76f0-66bd-429e-81f7-a200ff75474f",
   "metadata": {},
   "outputs": [],
   "source": [
    "elevation_ranges = bin_ranges(zones, elevation, 'm')\n",
    "elevation_ranges"
   ]
  },
  {
   "cell_type": "code",
   "execution_count": null,
   "id": "608bed5e-0131-4694-8cd5-fb5fdff6b983",
   "metadata": {},
   "outputs": [],
   "source": [
    "temperature_ranges = bin_ranges(classified_day_temp_march, day_temp_march, 'F')\n",
    "temperature_ranges"
   ]
  },
  {
   "cell_type": "markdown",
   "id": "7dd0c0c6-78d5-467b-847d-c45fb586b1bf",
   "metadata": {},
   "source": [
    "Now we got all the data we need. Let's run zonal crosstab to see how temperature is changed by elevation for March 2021."
   ]
  },
  {
   "cell_type": "code",
   "execution_count": null,
   "id": "0224a872-aa07-4f10-a2b1-3bbb5697cfa6",
   "metadata": {},
   "outputs": [],
   "source": [
    "temp_march_by_elevation = zonal_crosstab(zones, classified_day_temp_march, agg='percentage')\n",
    "temp_march_by_elevation['zone'] = elevation_ranges\n",
    "temp_march_by_elevation.columns = ['Elevation', *temperature_ranges]\n",
    "temp_march_by_elevation.set_index('Elevation', inplace=True)\n",
    "temp_march_by_elevation"
   ]
  },
  {
   "cell_type": "markdown",
   "id": "829cdc10-cdb6-498d-a04a-c5e3c8fe15b1",
   "metadata": {},
   "source": [
    "In the result table, each cell represents the percentage of a temperature class that falls within an elevation zone. It can easily be seen that the temperature decreases when the elevation increases and vice versa, the temperature increases when the elevation decreases."
   ]
  },
  {
   "cell_type": "code",
   "execution_count": null,
   "id": "3caabc36-f277-4504-b2af-d9e1bd3d3714",
   "metadata": {},
   "outputs": [],
   "source": [
    "temp_march_by_elevation.plot(kind=\"bar\", stacked=True);"
   ]
  },
  {
   "cell_type": "markdown",
   "id": "af024fca-6478-4dd0-b6c8-47d7a635d4f0",
   "metadata": {},
   "source": [
    "## 3D Zonal Crosstab\n",
    "\n",
    "3D zonal crosstab works on a 2D `zones` data array with a 3D `values` data array. There are many aggregation methods for calculating the cross tabulated stats between the 2 datasets: `[min, max, mean, sum, std, var, count]`.\n",
    "\n",
    "In this example, let's see how the average temperature are changed by elevation over time for day time temperature."
   ]
  },
  {
   "cell_type": "code",
   "execution_count": null,
   "id": "a1e5bdf9-e891-4df3-9ab2-8501ca040b1d",
   "metadata": {},
   "outputs": [],
   "source": [
    "mean_day_temp = zonal_crosstab(zones, day_temp_data, agg='mean')\n",
    "mean_day_temp['zone'] = elevation_ranges\n",
    "mean_day_temp.columns = ['Elevation', *datetimes.keys()]\n",
    "mean_day_temp.set_index('Elevation', inplace=True)\n",
    "\n",
    "mean_day_temp"
   ]
  },
  {
   "cell_type": "code",
   "execution_count": null,
   "id": "d9558669-74e8-4f81-a363-dbce9d691945",
   "metadata": {},
   "outputs": [],
   "source": [
    "mean_day_temp.reset_index().plot(\n",
    "    x=\"Elevation\", y=datetimes.keys(), kind=\"line\", figsize=(10, 10)\n",
    ");"
   ]
  },
  {
   "cell_type": "markdown",
   "id": "14ef50da-ef73-48e6-9a67-7826c3aded8e",
   "metadata": {},
   "source": [
    "Looking at the result of mean temperature for day time over the year, we can see that temperature reaches highest in June, and lowest in December. And it tends to decrease with increase in elevation height."
   ]
  }
 ],
 "metadata": {
  "language_info": {
   "name": "python"
  }
 },
 "nbformat": 4,
 "nbformat_minor": 5
}
