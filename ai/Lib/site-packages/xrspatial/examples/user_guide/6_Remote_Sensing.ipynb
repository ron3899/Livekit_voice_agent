{
 "cells": [
  {
   "cell_type": "markdown",
   "metadata": {},
   "source": [
    "# Xarray-spatial\n",
    "### User Guide: Remote Sensing tools\n",
    "-----\n",
    "\n",
    "Xarray-spatial's Remote Sensing tools provide a range of functions pertaining to remote sensing data such as satellite imagery. A range of functions are available to calculate various vegetation and environmental parameters from the range of band data available for an area. These functions accept and output data in the form of xarray.DataArray rasters.\n",
    "\n",
    "[True Color](#True-Color)   \n",
    "[Vegetation Index](#Vegetation-Index): [NDVI](#NDVI), [SAVI](#SAVI), [ARVI](#ARVI), [EVI](#EVI)   \n",
    "[Green Chlorophyll Index - GCI](#Green-Chlorophyll-Index-(GCI))  \n",
    "[Normalized Burn Ratio](#Normalized-Burn-Ratio): [NBR](#NBR), [NBR2](#NBR2)    \n",
    "[Normalized Difference Moisture Index - NDMI](#Normalized-Difference-Moisture-Index-(NDMI))  \n",
    "[Structure Insensitive Pigment Index - SIPI](#Structure-Insensitive-Pigment-Index-(SIPI))  \n",
    "[Enhanced Built-Up and Bareness Index - EBBI](#Enhanced-Built-Up-and-Bareness-Index-(EBBI))  \n",
    "[Bump Mapping](#Bump-Mapping)  \n",
    "\n",
    "-----------\n"
   ]
  },
  {
   "cell_type": "markdown",
   "metadata": {},
   "source": [
    "## Load data"
   ]
  },
  {
   "cell_type": "markdown",
   "metadata": {},
   "source": [
    "To get started, we'll import some basic packages, along with several handy datashader functions, mainly for rendering.\n",
    "\n",
    "To download the examples data, run the command `xrspatial examples` in your terminal. All the data will be stored in your current directory inside a folder named `xrspatial-examples`."
   ]
  },
  {
   "cell_type": "code",
   "execution_count": null,
   "metadata": {},
   "outputs": [],
   "source": [
    "import datashader as ds\n",
    "from datashader.colors import Elevation\n",
    "import datashader.transfer_functions as tf\n",
    "from datashader.transfer_functions import shade\n",
    "from datashader.transfer_functions import stack\n",
    "from datashader.transfer_functions import dynspread\n",
    "from datashader.transfer_functions import set_background\n",
    "from datashader.transfer_functions import Images, Image\n",
    "from datashader.utils import orient_array\n",
    "import numpy as np\n",
    "import xarray as xr"
   ]
  },
  {
   "cell_type": "markdown",
   "metadata": {},
   "source": [
    "The following functions apply to image data with bands in different parts of the UV/Visible/IR spectrum (multispectral), so we'll bring in some multispectral satellite image data to work with.\n",
    "\n",
    "Below, we loaded all of the images and transformed them into the form of an xarray DataArray to use in the Xarray-spatial functions."
   ]
  },
  {
   "cell_type": "code",
   "execution_count": null,
   "metadata": {},
   "outputs": [],
   "source": [
    "SCENE_ID = \"LC80030172015001LGN00\"\n",
    "EXTS = {\n",
    "    \"coastal_aerosol\": \"B1\",\n",
    "    \"blue\": \"B2\",\n",
    "    \"green\": \"B3\",\n",
    "    \"red\": \"B4\",\n",
    "    \"nir\": \"B5\",\n",
    "    \"swir1\": \"B6\",\n",
    "    \"swir2\": \"B7\",\n",
    "    \"panchromatic\": \"B8\",\n",
    "    \"cirrus\": \"B9\",\n",
    "    \"tir1\": \"B10\",\n",
    "    \"tir2\": \"B11\",\n",
    "    \"qa\": \"BQA\",\n",
    "}\n",
    "\n",
    "cvs = ds.Canvas(plot_width=1024, plot_height=1024)\n",
    "layers = {}\n",
    "for name, ext in EXTS.items():\n",
    "    layer = xr.open_rasterio(\n",
    "        f\"../../xrspatial-examples/data/{SCENE_ID}_{ext}.tiff\"\n",
    "    ).load()[0]\n",
    "    layer.name = name\n",
    "    layer = cvs.raster(layer, agg=\"mean\")\n",
    "    layer.data = orient_array(layer)\n",
    "    layers[name] = layer\n",
    "layers"
   ]
  },
  {
   "cell_type": "markdown",
   "metadata": {},
   "source": [
    "##### Let's do a quick visualization to see what these images look like. "
   ]
  },
  {
   "cell_type": "code",
   "execution_count": null,
   "metadata": {},
   "outputs": [],
   "source": [
    "shaded = []\n",
    "for name, raster in layers.items():\n",
    "    img = shade(raster)\n",
    "    img.name = name\n",
    "    shaded.append(img)\n",
    "\n",
    "imgs = Images(*shaded)\n",
    "imgs.num_cols = 2\n",
    "imgs"
   ]
  },
  {
   "cell_type": "markdown",
   "metadata": {},
   "source": [
    "## True Color\n",
    "\n",
    "Now we're ready to apply some xarray-spatial functions. \n",
    "\n",
    "To start, we can apply `true_color` to the red, green, and blue bands from above to generate a real-looking image."
   ]
  },
  {
   "cell_type": "code",
   "execution_count": null,
   "metadata": {},
   "outputs": [],
   "source": [
    "from xrspatial.multispectral import true_color\n",
    "\n",
    "true_color_agg = true_color(layers[\"red\"], layers[\"green\"], layers[\"blue\"])\n",
    "Image(true_color_agg)"
   ]
  },
  {
   "cell_type": "markdown",
   "metadata": {},
   "source": [
    "## Vegetation Index\n",
    "\n",
    "### NDVI\n",
    "\n",
    "The [Normalized Difference Vegetation Index](https://en.wikipedia.org/wiki/Normalized_difference_vegetation_index) (NDVI) is a metric designed to detect regions with vegetation by measuring the difference between near-infrared (NIR) light (which vegetation reflects) and red light (which vegetation absorbs).\n",
    "\n",
    "The NDVI ranges over [-1,+1], where `-1` means more \"Red\" radiation while `+1` means more \"NIR\" radiation. NDVI values close to +1.0 suggest areas dense with active green foliage, while strongly negative values suggest cloud cover or snow, and values near zero suggest open water, urban areas, or bare soil.\n",
    "\n",
    "Let's apply `xrspatial.multispectral.ndvi` to the satellite band images from above."
   ]
  },
  {
   "cell_type": "code",
   "execution_count": null,
   "metadata": {},
   "outputs": [],
   "source": [
    "from xrspatial.multispectral import ndvi\n",
    "\n",
    "ndvi_agg = ndvi(nir_agg=layers[\"nir\"], red_agg=layers[\"red\"])"
   ]
  },
  {
   "cell_type": "markdown",
   "metadata": {},
   "source": [
    "### SAVI\n",
    "\n",
    "`xrspatial.multispectral.savi` also computes the vegetation index from the red and nir bands, but it applies a correction factor for the soil brightness.\n",
    "\n",
    "Let's try applying that to our bands from above."
   ]
  },
  {
   "cell_type": "code",
   "execution_count": null,
   "metadata": {},
   "outputs": [],
   "source": [
    "from xrspatial.multispectral import savi\n",
    "\n",
    "savi_agg = savi(layers[\"nir\"], layers[\"red\"])"
   ]
  },
  {
   "cell_type": "markdown",
   "metadata": {},
   "source": [
    "### ARVI\n",
    "\n",
    "`xrspatial.multispectral.arvi` computes the Atmospherically Resistant vegetation index from the blue, red and nir bands. It applies molecular and ozone correction with no further need for aerosol correction, except for dust conditions.\n",
    "\n",
    "Let's try applying that to our bands data."
   ]
  },
  {
   "cell_type": "code",
   "execution_count": null,
   "metadata": {},
   "outputs": [],
   "source": [
    "from xrspatial.multispectral import arvi\n",
    "\n",
    "arvi_agg = arvi(layers[\"nir\"], layers[\"red\"], layers[\"blue\"])"
   ]
  },
  {
   "cell_type": "markdown",
   "metadata": {},
   "source": [
    "### EVI\n",
    "\n",
    "`xrspatial.multispectral.evi` computes the Enhanced Vegetation Index. It allows for importved sensitivity in high biomass regions, de-coupling of the canopy background signal and reduction of atmospheric influences. The function uses nir, red and blue bands.\n",
    "\n",
    "Let's try applying that to our bands data."
   ]
  },
  {
   "cell_type": "code",
   "execution_count": null,
   "metadata": {},
   "outputs": [],
   "source": [
    "from xrspatial.multispectral import evi\n",
    "\n",
    "evi_agg = evi(layers[\"nir\"], layers[\"red\"], layers[\"blue\"])"
   ]
  },
  {
   "cell_type": "markdown",
   "metadata": {},
   "source": [
    "### Visualize all vegetation indexes"
   ]
  },
  {
   "cell_type": "code",
   "execution_count": null,
   "metadata": {},
   "outputs": [],
   "source": [
    "vegetation_index_aggs = [ndvi_agg, savi_agg, arvi_agg, evi_agg]\n",
    "images = [shade(agg, cmap=['purple', 'black', 'green']) for agg in vegetation_index_aggs]\n",
    "\n",
    "Images(*images)"
   ]
  },
  {
   "cell_type": "markdown",
   "metadata": {},
   "source": [
    "## Green Chlorophyll Index (GCI)\n",
    "\n",
    "`xrspatial.gci` computes the Green Chlorophyll Index. It can be used to estimate the content of leaf chorophyll and predict the physiological state of vegetation and plant health. The function uses nir and green band data.\n",
    "\n",
    "Let's apply that to our bands data."
   ]
  },
  {
   "cell_type": "code",
   "execution_count": null,
   "metadata": {},
   "outputs": [],
   "source": [
    "from xrspatial.multispectral import gci\n",
    "\n",
    "gci_agg = gci(layers[\"nir\"], layers[\"green\"])\n",
    "shade(gci_agg)"
   ]
  },
  {
   "cell_type": "markdown",
   "metadata": {},
   "source": [
    "## Normalized Burn Ratio\n",
    "\n",
    "`xrspatial.multispectral` provides 2 tools for computing the Normalized Burn Ratio. `xrspatial.multispectral.nbr` is to identify burned areas and provide a measure of burn severity while `xrspatial.multispectral.nbr2` modifies the Normalized Burn Ratio (NBR) to highlight water sensitivity in vegetation and may be useful in post-fire recovery studies.\n",
    "\n",
    "\n",
    "### NBR\n",
    "`xrspatial.multispectral.nbr` uses NIR and SWIR2 band data. Let's calculate NBR using the our example data."
   ]
  },
  {
   "cell_type": "code",
   "execution_count": null,
   "metadata": {},
   "outputs": [],
   "source": [
    "from xrspatial.multispectral import nbr\n",
    "\n",
    "nbr_agg = nbr(layers[\"nir\"], layers[\"swir2\"])\n",
    "shade(nbr_agg)"
   ]
  },
  {
   "cell_type": "markdown",
   "metadata": {},
   "source": [
    "### NBR2\n",
    "`xrspatial.multispectral.nbr2` uses SWIR1 and SWIR2 band data. Let's calculate NBR2 using the our example data."
   ]
  },
  {
   "cell_type": "code",
   "execution_count": null,
   "metadata": {},
   "outputs": [],
   "source": [
    "from xrspatial.multispectral import nbr2\n",
    "\n",
    "nbr2_agg = nbr2(layers[\"swir1\"], layers[\"swir2\"])\n",
    "shade(nbr2_agg)"
   ]
  },
  {
   "cell_type": "markdown",
   "metadata": {},
   "source": [
    "## Normalized Difference Moisture Index (NDMI)  \n",
    "\n",
    "`xrspatial.multispectral.ndmi` calculates the Normalized Difference Moisture Index. It can be used to determine vegetation water content. The function uses NIR and SWIR1 band data."
   ]
  },
  {
   "cell_type": "code",
   "execution_count": null,
   "metadata": {},
   "outputs": [],
   "source": [
    "from xrspatial.multispectral import ndmi\n",
    "\n",
    "ndmi_agg = ndmi(layers[\"nir\"], layers[\"swir1\"])\n",
    "shade(ndmi_agg)"
   ]
  },
  {
   "cell_type": "markdown",
   "metadata": {},
   "source": [
    "## Structure Insensitive Pigment Index (SIPI)  \n",
    "\n",
    "`xrspatial.multispectral.sipi` calculates the Structure Insensitive Pigment Index which helpful in early disease detection in vegetation. The function uses NIR, red and blue band data."
   ]
  },
  {
   "cell_type": "code",
   "execution_count": null,
   "metadata": {},
   "outputs": [],
   "source": [
    "from xrspatial.multispectral import sipi\n",
    "\n",
    "sipi_agg = sipi(layers[\"nir\"], layers[\"red\"], layers[\"blue\"])\n",
    "shade(sipi_agg)"
   ]
  },
  {
   "cell_type": "markdown",
   "metadata": {},
   "source": [
    "## Enhanced Built-Up and Bareness Index (EBBI)\n",
    "\n",
    "`xrspatial.multispectral.sipi` computes the Enhanced Built-Up and Bareness Index (EBBI) which allows for easily distinguishing between built-up and bare land areas. The function uses red, SWIR, and TIR band data."
   ]
  },
  {
   "cell_type": "code",
   "execution_count": null,
   "metadata": {},
   "outputs": [],
   "source": [
    "from xrspatial.multispectral import ebbi\n",
    "\n",
    "ebbi_agg = ebbi(layers[\"red\"], layers[\"swir1\"], layers[\"tir1\"])\n",
    "shade(ebbi_agg)"
   ]
  },
  {
   "cell_type": "markdown",
   "metadata": {},
   "source": [
    "## Bump Mapping\n",
    "\n",
    "For the next few functions, we'll experiment with an artificial terrain. We'll use xarray-spatial's `generate_terrain` along with datashader's Canvas to smooth thing.\n",
    "\n",
    "### Generate Terrain"
   ]
  },
  {
   "cell_type": "code",
   "execution_count": null,
   "metadata": {},
   "outputs": [],
   "source": [
    "from xrspatial import generate_terrain\n",
    "\n",
    "W = 800\n",
    "H = 600\n",
    "\n",
    "template_terrain = xr.DataArray(np.zeros((H, W)))\n",
    "x_range=(-20e6, 20e6)\n",
    "y_range=(20e6, -20e6)\n",
    "\n",
    "terrain = generate_terrain(template_terrain, x_range=x_range, y_range=y_range)\n",
    "terrain.attrs[\"unit\"] = \"meter\"\n",
    "\n",
    "shade(terrain, cmap=[\"black\", \"white\"], how=\"linear\")"
   ]
  },
  {
   "cell_type": "markdown",
   "metadata": {},
   "source": [
    "The grayscale values in the image above show the elevation, scaled linearly in intensity (with the large black areas indicating low elevation). This is good, but it would look more like a landscape if we map the lowest values to colors representing water, and the highest to colors representing mountaintops. We can use the Elevation colormap for this."
   ]
  },
  {
   "cell_type": "code",
   "execution_count": null,
   "metadata": {},
   "outputs": [],
   "source": [
    "shade(terrain, cmap=Elevation, how=\"linear\")"
   ]
  },
  {
   "cell_type": "markdown",
   "metadata": {},
   "source": [
    "Now we can generate the rgba PIL image, extract the green and blue bands, and input those into ndvi. \n",
    "\n",
    "The result is displayed below. "
   ]
  },
  {
   "cell_type": "code",
   "execution_count": null,
   "metadata": {},
   "outputs": [],
   "source": [
    "rgba = stack(shade(terrain, cmap=Elevation, how=\"linear\")).to_pil()\n",
    "r, g, b, a = [\n",
    "    xr.DataArray(np.flipud(np.asarray(rgba.getchannel(c)))) / 255.0\n",
    "    for c in [\"R\", \"G\", \"B\", \"A\"]\n",
    "]\n",
    "\n",
    "ndvi_img = ndvi(nir_agg=g, red_agg=b)\n",
    "shade(ndvi_img, cmap=[\"purple\", \"black\", \"green\"], how=\"linear\")"
   ]
  },
  {
   "cell_type": "markdown",
   "metadata": {},
   "source": [
    "### Bump\n",
    "\n",
    "Bump mapping is a cartographic technique that can be used to create the appearance of trees or other land features, which is useful when synthesizing human-interpretable images from source data like land use classifications.\n",
    "\n",
    "`xrspatial.bump` will produce a bump aggregate for adding detail to the terrain.\n",
    "\n",
    "In this example, we will pretend the bumps are trees, and shade them with green.  We'll also use the elevation data to modulate whether there are trees and if so how tall they are.\n",
    "\n",
    "- First, we'll define a custom `height` function to return tree heights suitable for the given elevation range\n",
    "- `xrspatial.bump` accepts a function with only a single argument (`locations`), so we will use `functools.partial` to provide values for the other arguments.\n",
    "- Bump mapping isn't normally a performance bottleneck, but if you want, you can speed it up by using Numba on your custom `height` function (`from xrspatial.utils import ngjit`, then put `@ngjit` above `def heights(...)`)."
   ]
  },
  {
   "cell_type": "code",
   "execution_count": null,
   "metadata": {},
   "outputs": [],
   "source": [
    "from functools import partial\n",
    "\n",
    "from xrspatial import bump, hillshade\n",
    "\n",
    "\n",
    "def heights(locations, src, src_range, height=20):\n",
    "    num_bumps = locations.shape[0]\n",
    "    out = np.zeros(num_bumps, dtype=np.uint16)\n",
    "    for r in range(0, num_bumps):\n",
    "        loc = locations[r]\n",
    "        x = loc[0]\n",
    "        y = loc[1]\n",
    "        val = src[y, x]\n",
    "        if val >= src_range[0] and val < src_range[1]:\n",
    "            out[r] = height\n",
    "    return out\n",
    "\n",
    "\n",
    "T = 300000  # Number of trees to add per call\n",
    "src = terrain.data\n",
    "%time trees  = bump(W, H, count=T,    height_func=partial(heights, src=src, src_range=(1000, 1300), height=5))\n",
    "trees += bump(\n",
    "    W,\n",
    "    H,\n",
    "    count=T // 2,\n",
    "    height_func=partial(heights, src=src, src_range=(1300, 1700), height=20),\n",
    ")\n",
    "trees += bump(\n",
    "    W,\n",
    "    H,\n",
    "    count=T // 3,\n",
    "    height_func=partial(heights, src=src, src_range=(1700, 2000), height=5),\n",
    ")\n",
    "trees = trees.assign_coords(terrain.coords)\n",
    "\n",
    "tree_colorize = trees.copy()\n",
    "tree_colorize.data[tree_colorize.data == 0] = np.nan\n",
    "hillshaded = hillshade(terrain + trees)\n",
    "\n",
    "stack(\n",
    "    shade(terrain, cmap=[\"black\", \"white\"], how=\"linear\"),\n",
    "    shade(hillshaded, cmap=[\"black\", \"white\"], how=\"linear\", alpha=128),\n",
    "    shade(tree_colorize, cmap=\"limegreen\", how=\"linear\"),\n",
    ")"
   ]
  }
 ],
 "metadata": {
  "language_info": {
   "name": "python"
  }
 },
 "nbformat": 4,
 "nbformat_minor": 4
}
